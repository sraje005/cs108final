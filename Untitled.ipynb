{
 "cells": [
  {
   "attachments": {},
   "cell_type": "markdown",
   "id": "1929c7f4",
   "metadata": {},
   "source": [
    "**CS108 FINAL PROJECT**  \n",
    "this is our final project, where we will analyze a dataset about stroke patients to look for trends and bias\n"
   ]
  },
  {
   "cell_type": "code",
   "execution_count": null,
   "id": "8c557fa0",
   "metadata": {},
   "outputs": [],
   "source": []
  },
  {
   "cell_type": "code",
   "execution_count": null,
   "id": "c311feca",
   "metadata": {},
   "outputs": [],
   "source": []
  },
  {
   "cell_type": "markdown",
   "id": "61766248",
   "metadata": {},
   "source": []
  },
  {
   "cell_type": "markdown",
   "id": "eb78e6ca",
   "metadata": {},
   "source": []
  },
  {
   "cell_type": "code",
   "execution_count": null,
   "id": "f42c875e",
   "metadata": {},
   "outputs": [],
   "source": []
  },
  {
   "cell_type": "code",
   "execution_count": null,
   "id": "b56fe476",
   "metadata": {},
   "outputs": [],
   "source": []
  }
 ],
 "metadata": {
  "kernelspec": {
   "display_name": "base",
   "language": "python",
   "name": "python3"
  },
  "language_info": {
   "codemirror_mode": {
    "name": "ipython",
    "version": 3
   },
   "file_extension": ".py",
   "mimetype": "text/x-python",
   "name": "python",
   "nbconvert_exporter": "python",
   "pygments_lexer": "ipython3",
   "version": "3.9.12 (main, Apr  4 2022, 05:22:27) [MSC v.1916 64 bit (AMD64)]"
  },
  "vscode": {
   "interpreter": {
    "hash": "84dd32a4065b5f9131e3e2630f1cdc5f29c9ed24dd68806e8e017f542e54b7bc"
   }
  }
 },
 "nbformat": 4,
 "nbformat_minor": 5
}
